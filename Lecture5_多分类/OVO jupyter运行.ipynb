{
 "cells": [
  {
   "cell_type": "markdown",
   "metadata": {},
   "source": [
    "## OVO"
   ]
  },
  {
   "cell_type": "code",
   "execution_count": 48,
   "metadata": {},
   "outputs": [
    {
     "name": "stdout",
     "output_type": "stream",
     "text": [
      "A类均值: [-4, -4] , A类协方差矩阵: [[1, 0], [1, 1]]\n",
      "B类均值: [0, 4] , B类协方差矩阵: [[0, 1], [1, 0]]\n",
      "C类均值: [3, -3] , C类协方差矩阵: [[1, 0], [0, 1]]\n",
      "最终权值: [[ 0.1        -3.66670474 -6.82343566]\n",
      " [ 0.1        -6.96628299  0.17774995]\n",
      " [ 0.1        -2.12149115  6.57631393]]\n",
      "正确率: 1.0\n",
      "紫线分割橙绿，蓝线分割蓝绿，红线分割橙蓝\n"
     ]
    },
    {
     "data": {
      "text/plain": [
       "[<matplotlib.lines.Line2D at 0x21c43d0e2b0>]"
      ]
     },
     "execution_count": 48,
     "metadata": {},
     "output_type": "execute_result"
    },
    {
     "data": {
      "image/png": "[encoded data removed]",
      "text/plain": [
       "<Figure size 432x288 with 1 Axes>"
      ]
     },
     "metadata": {
      "needs_background": "light"
     },
     "output_type": "display_data"
    }
   ],
   "source": [
    "%matplotlib inline\n",
    "import numpy as np\n",
    "import matplotlib.pyplot as plt\n",
    "from sklearn.utils import shuffle\n",
    "\n",
    "def PLA(X1,X2):\n",
    "    #规定传进来的X1对应标签1，X2对应标签2\n",
    "    np.random.seed(0)\n",
    "    #w_init=np.random.randn(3)\n",
    "    w_init=np.array([0.1,0.1,0.1])\n",
    "    w = w_init\n",
    "    y1 = np.linspace(1,1,200)\n",
    "    y1 = y1.reshape([200,1])\n",
    "    y2 = np.linspace(-1,-1,200)\n",
    "    y2 = y2.reshape([200,1])\n",
    "    X = np.concatenate((X1, X2), axis=0)\n",
    "    y = np.concatenate((y1, y2), axis=0)\n",
    "    k = X.shape[0]\n",
    "    x1 = np.ones([k,1])\n",
    "    X = np.concatenate((x1, X), axis=1)\n",
    "    X, y = shuffle(X, y)\n",
    "    ###################################\n",
    "    mark = 0\n",
    "    sum1 = 0\n",
    "    init = 0\n",
    "    while not mark:\n",
    "        for i in range(k):\n",
    "            f = np.dot(w, X[i])\n",
    "            m = f*float(y[i])\n",
    "            init += 1\n",
    "            if m<=0:\n",
    "                w = w + X[i]*float(y[i])\n",
    "                sum1+=1\n",
    "                break;\n",
    "        if init == k:\n",
    "            mark = 1\n",
    "        if sum1 > 10000:\n",
    "            mark = 1\n",
    "        init = 0\n",
    "    return w\n",
    "\n",
    "###############################################\n",
    "def OVO(X1,X2,X3):\n",
    "    w1=PLA(X1,X2)\n",
    "    w1=w1.reshape(1,3)\n",
    "    w2=PLA(X1,X3)\n",
    "    w2=w2.reshape(1,3)\n",
    "    w3=PLA(X2,X3)\n",
    "    w3=w3.reshape(1,3)\n",
    "    w = np.concatenate((w1,w2), axis=0)\n",
    "    w = np.concatenate((w,w3),axis=0)\n",
    "    return w\n",
    "############################################\n",
    "num, dim=200,2\n",
    "np.random.seed(0)\n",
    "x2=np.random.randn(num, dim)\n",
    "C=[[1,0],[1,1]]\n",
    "W = [-4,-4]\n",
    "print(\"A类均值:\",W,\", A类协方差矩阵:\",C)\n",
    "X1=np.dot(x2,C)+W\n",
    "plt.scatter(X1[:,0],X1[:,1])\n",
    "num, dim=200,2\n",
    "np.random.seed(0)\n",
    "x2_=np.random.randn(num, dim)\n",
    "C=[[0,1],[1,0]]\n",
    "W = [0,4]\n",
    "print(\"B类均值:\",W,\", B类协方差矩阵:\",C)\n",
    "X2= np.dot(x2_,C)+W\n",
    "plt.scatter(X2[:,0],X2[:,1])\n",
    "x2=np.random.randn(num, dim)\n",
    "C=[[1,0],[0,1]]\n",
    "W = [3,-3]\n",
    "print(\"C类均值:\",W,\", C类协方差矩阵:\",C)\n",
    "X3=np.dot(x2,C)+W\n",
    "plt.scatter(X3[:,0],X3[:,1])\n",
    "##################################################\n",
    "w=OVO(X1,X2,X3)\n",
    "##################################################\n",
    "print(\"最终权值:\",w)\n",
    "####################################################\n",
    "sum2=0\n",
    "x1 = np.ones([200,1])\n",
    "X1 = np.concatenate((x1, X1), axis=1)\n",
    "X2 = np.concatenate((x1, X2), axis=1)\n",
    "X3 = np.concatenate((x1, X3), axis=1)\n",
    "for i in range(200):\n",
    "    sign1=0\n",
    "    sign2=0\n",
    "    sign3=0\n",
    "    m11= np.dot(w[0], X1[i])\n",
    "    m21= np.dot(w[0], X2[i])\n",
    "    if m11>0 :\n",
    "        sign1+=1\n",
    "    if m21<0:\n",
    "        sign2+=1\n",
    "    m12= np.dot(w[1], X1[i])\n",
    "    m13= np.dot(w[1], X3[i])\n",
    "    if m12>0:\n",
    "        sign1+=1\n",
    "    if m13<0:\n",
    "        sign3+=1\n",
    "    m23= np.dot(w[2], X2[i])\n",
    "    m33= np.dot(w[2], X3[i])\n",
    "    if m23>0:\n",
    "        sign2+=1\n",
    "    if m33<0:\n",
    "        sign3+=1\n",
    "    if sign1<2:\n",
    "        sum2+=1\n",
    "    if sign2<2:\n",
    "        sum2+=1\n",
    "    if sign3<2:\n",
    "        sum2+=1\n",
    "print(\"正确率:\",(600-sum2)/600)\n",
    "####################################################\n",
    "print(\"紫线分割橙绿，蓝线分割蓝绿，红线分割橙蓝\")\n",
    "xx = np.linspace(-7,5)\n",
    "zz = -w[0][1]/w[0][2]*xx - w[0][0]/w[0][2]\n",
    "col = [\"ff0000\",\"00ffff\",\"ff00ff\"]\n",
    "plt.plot(xx, zz,color=('#'+col[0]))\n",
    "xx = np.linspace(-0.2,0.2)\n",
    "zz = -w[1][1]/w[1][2]*xx - w[1][0]/w[1][2]\n",
    "plt.plot(xx, zz,color=('#'+col[1]))\n",
    "xx = np.linspace(-7,5.6)\n",
    "zz = -w[2][1]/w[2][2]*xx - w[2][0]/w[2][2]\n",
    "plt.plot(xx, zz,color=('#'+col[2]))\n"
   ]
  },
  {
   "cell_type": "code",
   "execution_count": null,
   "metadata": {},
   "outputs": [],
   "source": []
  }
 ],
 "metadata": {
  "kernelspec": {
   "display_name": "Python 3",
   "language": "python",
   "name": "python3"
  },
  "language_info": {
   "codemirror_mode": {
    "name": "ipython",
    "version": 3
   },
   "file_extension": ".py",
   "mimetype": "text/x-python",
   "name": "python",
   "nbconvert_exporter": "python",
   "pygments_lexer": "ipython3",
   "version": "3.7.3"
  }
 },
 "nbformat": 4,
 "nbformat_minor": 2
}
