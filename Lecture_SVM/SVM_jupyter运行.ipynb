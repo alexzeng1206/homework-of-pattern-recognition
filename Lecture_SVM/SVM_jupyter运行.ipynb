{
 "cells": [
  {
   "cell_type": "markdown",
   "metadata": {},
   "source": [
    "# 用沿海城市作为数据"
   ]
  },
  {
   "cell_type": "code",
   "execution_count": 24,
   "metadata": {},
   "outputs": [
    {
     "name": "stdout",
     "output_type": "stream",
     "text": [
      "     pcost       dcost       gap    pres   dres\n",
      " 0:  8.7213e-03  2.8574e+00  2e+01  2e+00  4e+02\n",
      " 1:  7.5023e-02 -1.9220e+00  3e+00  2e-01  7e+01\n",
      " 2:  9.4590e-02  1.2538e-02  8e-02  4e-15  1e-13\n",
      " 3:  4.6080e-02  4.0179e-02  6e-03  3e-15  1e-13\n",
      " 4:  4.5120e-02  4.4213e-02  9e-04  5e-15  6e-14\n",
      " 5:  4.4698e-02  4.4688e-02  1e-05  5e-15  7e-14\n",
      " 6:  4.4694e-02  4.4694e-02  1e-07  2e-15  6e-14\n",
      " 7:  4.4694e-02  4.4694e-02  1e-09  6e-15  5e-14\n",
      "Optimal solution found.\n",
      "w1: -0.298977  w2: 0.003147  b: 37.187254\n"
     ]
    },
    {
     "data": {
      "text/plain": [
       "[<matplotlib.lines.Line2D at 0x21b72ff4860>]"
      ]
     },
     "execution_count": 24,
     "metadata": {},
     "output_type": "execute_result"
    },
    {
     "data": {
      "image/png": "[encoded data removed]",
      "text/plain": [
       "<Figure size 432x288 with 1 Axes>"
      ]
     },
     "metadata": {
      "needs_background": "light"
     },
     "output_type": "display_data"
    }
   ],
   "source": [
    "%matplotlib inline\n",
    "import numpy as np\n",
    "import matplotlib.pyplot as plt\n",
    "import pprint\n",
    "import cvxopt\n",
    "from cvxopt import matrix, solvers\n",
    "def svm(X1,X2):\n",
    "    n1 = len(X1)\n",
    "    n2 = len(X2)\n",
    "    P = matrix([[0.,0,0],[0,1,0],[0,1,0]])\n",
    "    q = matrix([0.,0,0])\n",
    "    one1 =np.ones((n1,1))\n",
    "    W1 = np.hstack((one1,X1))\n",
    "    one2 =np.ones((n2,1))\n",
    "    W2 = -1*np.hstack((one2,X2))\n",
    "    n = n1 + n2 \n",
    "    G = -1*matrix(np.vstack((W1,W2)))\n",
    "    h = -1*matrix(np.ones((n,1)))\n",
    "    re = cvxopt.solvers.qp(P,q,G,h)\n",
    "    return re['x']\n",
    "###############################################\n",
    "###############################################\n",
    "ch0= np.array([\n",
    "        [121.4,34.5],#上海\n",
    "        [117.2,39.1],#天津\n",
    "        [114.1,22.2],#香港\n",
    "        [120.2,30.3],#杭州\n",
    "        [118.1,24.5],#厦门\n",
    "        [121.3,25.0] #台北\n",
    "        ])\n",
    "ch1 = np.array([\n",
    "        [116.41667,39.91667],#北京\n",
    "        [106.45000, 29.56667],#重庆\n",
    "        [104.06667,30.66667],#成都\n",
    "        [114.31667,30.51667]#武汉\n",
    "        ])\n",
    "\n",
    "jp0= np.array([\n",
    "        [128, 26],#冲绳\n",
    "        [132, 34],#广岛\n",
    "        [136, 35],#桑明\n",
    "        ])\n",
    "jp1 = np.array([\n",
    "        [135.3,34.4],   #大阪\n",
    "        [132.27,34.24], #广岛\n",
    "        [135.5,34.41], #奈良\n",
    "        [139.46,35.42], #东京\n",
    "        ])\n",
    "\n",
    "###################################\n",
    "plt.scatter(ch0[:,0],ch0[:,1])\n",
    "plt.scatter(jp0[:,0],jp0[:,1])\n",
    "plt.plot(123,25,color='g',marker='x')\n",
    "#####################################\n",
    "re = svm(ch0,jp0) \n",
    "b = re[0]\n",
    "w1 = re[1]\n",
    "w2 = re[2]\n",
    "print('w1:',round(w1,6),' w2:',round(w2,6),' b:',round(b,6))\n",
    "xx = np.linspace(123,125.5)\n",
    "zz = -w1/w2*xx - b/w2\n",
    "plt.plot(xx, zz)\n"
   ]
  },
  {
   "cell_type": "markdown",
   "metadata": {},
   "source": [
    "# 加入内地城市"
   ]
  },
  {
   "cell_type": "code",
   "execution_count": 25,
   "metadata": {},
   "outputs": [
    {
     "name": "stdout",
     "output_type": "stream",
     "text": [
      "     pcost       dcost       gap    pres   dres\n",
      " 0:  3.5565e-03  9.8680e+00  5e+01  2e+00  4e+02\n",
      " 1:  3.2236e-02 -8.0922e+00  1e+01  5e-01  1e+02\n",
      " 2:  6.2477e-02 -1.4269e+00  2e+00  6e-02  1e+01\n",
      " 3:  6.4954e-02  2.0968e-02  4e-02  3e-04  8e-02\n",
      " 4:  4.6344e-02  4.1763e-02  5e-03  3e-05  7e-03\n",
      " 5:  4.4711e-02  4.4657e-02  5e-05  3e-07  8e-05\n",
      " 6:  4.4694e-02  4.4693e-02  5e-07  3e-09  8e-07\n",
      " 7:  4.4694e-02  4.4694e-02  5e-09  3e-11  8e-09\n",
      "Optimal solution found.\n",
      "w1: -0.298977  w2: 0.003147  b: 37.187255\n"
     ]
    },
    {
     "data": {
      "text/plain": [
       "[<matplotlib.lines.Line2D at 0x21b7304ddd8>]"
      ]
     },
     "execution_count": 25,
     "metadata": {},
     "output_type": "execute_result"
    },
    {
     "data": {
      "image/png": "[encoded data removed]",
      "text/plain": [
       "<Figure size 432x288 with 1 Axes>"
      ]
     },
     "metadata": {
      "needs_background": "light"
     },
     "output_type": "display_data"
    }
   ],
   "source": [
    "%matplotlib inline\n",
    "import numpy as np\n",
    "import matplotlib.pyplot as plt\n",
    "import pprint\n",
    "import cvxopt\n",
    "from cvxopt import matrix, solvers\n",
    "def svm(X1,X2):\n",
    "    n1 = len(X1)\n",
    "    n2 = len(X2)\n",
    "    P = matrix([[0.,0,0],[0,1,0],[0,1,0]])\n",
    "    q = matrix([0.,0,0])\n",
    "    one1 =np.ones((n1,1))\n",
    "    W1 = np.hstack((one1,X1))\n",
    "    one2 =np.ones((n2,1))\n",
    "    W2 = -1*np.hstack((one2,X2))\n",
    "    n = n1 + n2 \n",
    "    G = -1*matrix(np.vstack((W1,W2)))\n",
    "    h = -1*matrix(np.ones((n,1)))\n",
    "    re = cvxopt.solvers.qp(P,q,G,h)\n",
    "    return re['x']\n",
    "###############################################\n",
    "###############################################\n",
    "ch0= np.array([\n",
    "        [121.4,34.5],#上海\n",
    "        [117.2,39.1],#天津\n",
    "        [114.1,22.2],#香港\n",
    "        [120.2,30.3],#杭州\n",
    "        [118.1,24.5],#厦门\n",
    "        [121.3,25.0] #台北\n",
    "        ])\n",
    "ch1 = np.array([\n",
    "        [116.41667,39.91667],#北京\n",
    "        [106.45000, 29.56667],#重庆\n",
    "        [104.06667,30.66667],#成都\n",
    "        [114.31667,30.51667]#武汉\n",
    "        ])\n",
    "\n",
    "jp0= np.array([\n",
    "        [128, 26],#冲绳\n",
    "        [132, 34],#广岛\n",
    "        [136, 35],#桑明\n",
    "        ])\n",
    "jp1 = np.array([\n",
    "        [135.3,34.4],   #大阪\n",
    "        [132.27,34.24], #广岛\n",
    "        [135.5,34.41], #奈良\n",
    "        [139.46,35.42], #东京\n",
    "        ])\n",
    "ch=np.concatenate((ch0, ch1), axis=0)\n",
    "jp=np.concatenate((jp0, jp1), axis=0)\n",
    "###################################\n",
    "plt.scatter(ch[:,0],ch[:,1])\n",
    "plt.scatter(jp[:,0],jp[:,1])\n",
    "plt.plot(123,25,color='g',marker='x')\n",
    "#####################################\n",
    "re = svm(ch,jp) \n",
    "b = re[0]\n",
    "w1 = re[1]\n",
    "w2 = re[2]\n",
    "print('w1:',round(w1,6),' w2:',round(w2,6),' b:',round(b,6))\n",
    "xx = np.linspace(123,125.5)\n",
    "zz = -w1/w2*xx - b/w2\n",
    "plt.plot(xx, zz)\n"
   ]
  },
  {
   "cell_type": "code",
   "execution_count": null,
   "metadata": {},
   "outputs": [],
   "source": []
  }
 ],
 "metadata": {
  "kernelspec": {
   "display_name": "Python 3",
   "language": "python",
   "name": "python3"
  },
  "language_info": {
   "codemirror_mode": {
    "name": "ipython",
    "version": 3
   },
   "file_extension": ".py",
   "mimetype": "text/x-python",
   "name": "python",
   "nbconvert_exporter": "python",
   "pygments_lexer": "ipython3",
   "version": "3.7.3"
  }
 },
 "nbformat": 4,
 "nbformat_minor": 2
}
